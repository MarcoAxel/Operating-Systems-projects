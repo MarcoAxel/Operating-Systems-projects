{
 "cells": [
  {
   "cell_type": "markdown",
   "metadata": {},
   "source": [
    "##### Marcos Hernandez\n",
    "### Generationg random arrival and service times \n",
    "In this Project you will write program to generate random arrival and service times. You will write two functions: One function will generate 100 arrival times and the other function will generate 100 service times. Directions to generate two sets of random numbers are given below.\n",
    "**Directions**\n",
    "1.\tTo generate 99 random interarrival times use built in random number generator function of the language of your choice.  That random number generator function for example rand() (this is for language C) will generate real numbers greater than 0 and less than 1. \n",
    "2. Create Inter Arrival Times:\n",
    "An array of 99 intigers from a range of 4(min) - 9(max)\n",
    "<br>and one other integer at index 0 that holds a value of 0."
   ]
  },
  {
   "cell_type": "code",
   "execution_count": 64,
   "metadata": {},
   "outputs": [],
   "source": [
    "def generate_rand_arrival_times(num_arrivals=99, min_time=4, max_time=9):\n",
    "    import random\n",
    "    import numpy as np\n",
    "    arrivals = []\n",
    "    arrivals.append(0)\n",
    "    random.seed(5)\n",
    "    for i in range(num_arrivals):\n",
    "        rand_int= random.randint(min_time-1, max_time)\n",
    "        arrivals.append(rand_int)\n",
    "    inter_arrival_times = np.array(arrivals)\n",
    "    print(\"Inter Arrival Times:\",np.array(inter_arrival_times),\"\\nInter Arrival Times:\",len(inter_arrival_times))\n",
    "    #arrival_times = np.cumsum(inter_arrival_times) #cumulative sum is a simple alternative\n",
    "    arrival_times = []\n",
    "    sum=0\n",
    "    for i in inter_arrival_times:\n",
    "        sum+=i\n",
    "        arrival_times.append(sum)\n",
    "    arrival_times = np.array(arrival_times)\n",
    "    print(\"\\nArrival Times:\",arrival_times,\"\\nArrival Times size:\",len(arrival_times))"
   ]
  },
  {
   "cell_type": "markdown",
   "metadata": {},
   "source": [
    "\n",
    "3. Obtain Arrival times, an array of arrival times for [a1, a2, a3, a4 ... a100] (from Inter arrival times)\n",
    "Let a1, a2, a3,………be the arrival times.<br>\n",
    "Ensure the first value is set to 0.<br>\n",
    "\n",
    "Then use the following equations to generate the rest of the arrival times.\n",
    ">         a2 = a1 + Inter-arr-time-1\n",
    ">         a3 = a2 + Inter-arr-time-2\n",
    "\n",
    "So on and so forth …you will use a loop to generate the arrival times a1, a2, a3……. You will have 100 arrival times, where a1=0\n",
    "***note***: **Inter-arr-time-1** is the first generated number from step 2. Inter-arr-time-2 is the second generated number from step 2."
   ]
  },
  {
   "cell_type": "code",
   "execution_count": null,
   "metadata": {},
   "outputs": [],
   "source": [
    "def generate_service_times(num_service_times=100, min_time=2, max_time=5):\n",
    "    import random\n",
    "    import numpy as np\n",
    "\n",
    "    service_times = []\n",
    "    random.seed(5)\n",
    "    for i in range(num_service_times):\n",
    "        rand_int= random.randint(min_time, max_time)\n",
    "        service_times.append(rand_int)\n",
    "    service_times = np.array(service_times)\n",
    "    print(\"Service Times:\",service_times)\n",
    "    print(\"Service Times size:\",len(service_times))"
   ]
  },
  {
   "cell_type": "markdown",
   "metadata": {},
   "source": [
    "### Directions to generate service times\n",
    "Write another function to generate 100 service times. To generate 100 service times- use built in random number generator function of the language of your choice.\n",
    "Use the following equation and loop to generation 100 service times between 2 and 5\n",
    "> Servicetime= 2 + (5-2)*rand()"
   ]
  },
  {
   "cell_type": "markdown",
   "metadata": {},
   "source": [
    "Submission detail:\n",
    "\n",
    "Your output will look like this:\n",
    "<br>The arriva times are: {hundred numbers}\n",
    "<br>The service times are: {hundred numbers}\n",
    "\n",
    "***Submit the source code and outpput in class at the beginnning  of class with your name on it. Also add:***<br>\n",
    "a. Who did you work with (if any for the assignment)?<br>\n",
    "b. Wha resources (people, AI, Online) did you use for this assignment?"
   ]
  },
  {
   "cell_type": "code",
   "execution_count": 66,
   "metadata": {},
   "outputs": [
    {
     "name": "stdout",
     "output_type": "stream",
     "text": [
      "Inter Arrival Times: [0 7 5 8 5 9 8 9 8 8 7 3 9 6 9 4 8 3 4 3 5 6 9 4 6 7 3 7 4 3 8 4 6 5 4 9 9\n",
      " 6 4 9 9 3 4 7 7 6 4 4 3 9 3 4 9 4 4 9 4 5 5 4 7 8 8 4 4 8 4 6 5 3 5 6 4 4\n",
      " 5 3 5 5 9 7 7 3 7 8 8 5 3 5 5 9 5 6 8 5 4 6 6 8 4 3] \n",
      "Inter Arrival Times: 100\n",
      "\n",
      "Arrival Times: [  0   7  12  20  25  34  42  51  59  67  74  77  86  92 101 105 113 116\n",
      " 120 123 128 134 143 147 153 160 163 170 174 177 185 189 195 200 204 213\n",
      " 222 228 232 241 250 253 257 264 271 277 281 285 288 297 300 304 313 317\n",
      " 321 330 334 339 344 348 355 363 371 375 379 387 391 397 402 405 410 416\n",
      " 420 424 429 432 437 442 451 458 465 468 475 483 491 496 499 504 509 518\n",
      " 523 529 537 542 546 552 558 566 570 573] \n",
      "Arrival Times size: 100\n"
     ]
    }
   ],
   "source": [
    "generate_rand_arrival_times()"
   ]
  },
  {
   "cell_type": "code",
   "execution_count": 65,
   "metadata": {},
   "outputs": [
    {
     "name": "stdout",
     "output_type": "stream",
     "text": [
      "Service Times: [4 4 2 5 3 2 3 2 4 5 3 5 2 3 2 3 5 4 3 5 3 2 3 5 3 3 2 2 3 3 3 3 4 4 3 3 3\n",
      " 3 5 4 2 4 5 3 3 4 2 4 4 2 4 2 4 4 4 5 4 3 5 5 3 2 4 2 4 5 2 5 4 5 2 5 2 3\n",
      " 3 2 3 5 4 4 4 5 2 4 4 2 5 2 3 4 4 3 4 4 2 4 4 4 3 2]\n",
      "Service Times size: 100\n"
     ]
    }
   ],
   "source": [
    "generate_service_times()"
   ]
  },
  {
   "cell_type": "code",
   "execution_count": null,
   "metadata": {},
   "outputs": [],
   "source": [
    "# I worked on this assignment on my own.\n",
    "# I used stackoverflow as a resource to remind myself of the python random number generator syntax.\n",
    "# As well as numpy array syntax."
   ]
  }
 ],
 "metadata": {
  "kernelspec": {
   "display_name": "base",
   "language": "python",
   "name": "python3"
  },
  "language_info": {
   "codemirror_mode": {
    "name": "ipython",
    "version": 3
   },
   "file_extension": ".py",
   "mimetype": "text/x-python",
   "name": "python",
   "nbconvert_exporter": "python",
   "pygments_lexer": "ipython3",
   "version": "3.11.5"
  }
 },
 "nbformat": 4,
 "nbformat_minor": 2
}
